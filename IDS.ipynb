{
  "nbformat": 4,
  "nbformat_minor": 0,
  "metadata": {
    "colab": {
      "provenance": [],
      "authorship_tag": "ABX9TyNiwheD3QBjJEAAG4xAFImI",
      "include_colab_link": true
    },
    "kernelspec": {
      "name": "python3",
      "display_name": "Python 3"
    },
    "language_info": {
      "name": "python"
    }
  },
  "cells": [
    {
      "cell_type": "markdown",
      "metadata": {
        "id": "view-in-github",
        "colab_type": "text"
      },
      "source": [
        "<a href=\"https://colab.research.google.com/github/adarshtomar333/IDS/blob/main/IDS.ipynb\" target=\"_parent\"><img src=\"https://colab.research.google.com/assets/colab-badge.svg\" alt=\"Open In Colab\"/></a>"
      ]
    },
    {
      "cell_type": "code",
      "execution_count": null,
      "metadata": {
        "id": "i8fjGZ4kB0ez"
      },
      "outputs": [],
      "source": [
        "# Import necessary libraries\n",
        "import pandas as pd\n",
        "from sklearn.ensemble import IsolationForest\n",
        "from sklearn.metrics import classification_report, confusion_matrix\n",
        "from sklearn.preprocessing import LabelEncoder\n",
        "from sklearn.model_selection import train_test_split\n",
        "\n",
        "# Read the data from a text file (assuming the file is CSV-formatted)\n",
        "# Replace 'your_file.txt' with the actual file path\n",
        "data = pd.read_csv('/content/KDDTest+.txt', delimiter=\",\")  # Adjust delimiter if needed (e.g., for tab-separated, use '\\t')\n",
        "\n",
        "# Display the first few rows of the dataset\n",
        "print(data.head())\n",
        "\n",
        "# Data Preprocessing\n",
        "\n",
        "# Convert categorical columns to numerical values\n",
        "label_encoder = LabelEncoder()\n",
        "\n",
        "# Assuming 'protocol_type', 'service', 'flag' are categorical columns (adjust if needed)\n",
        "data['protocol_type'] = label_encoder.fit_transform(data['protocol_type'])\n",
        "data['service'] = label_encoder.fit_transform(data['service'])\n",
        "data['flag'] = label_encoder.fit_transform(data['flag'])\n",
        "\n",
        "# Define the features and labels\n",
        "X = data.drop(columns=['label'])  # Features (excluding the target variable)\n",
        "y = data['label']  # Target variable (attack or normal)\n",
        "\n",
        "# Convert the target labels ('normal' = 0, 'attack' = 1)\n",
        "y = y.apply(lambda x: 0 if x == 'normal' else 1)\n",
        "\n",
        "# Split the data into training and test sets\n",
        "X_train, X_test, y_train, y_test = train_test_split(X, y, test_size=0.2, random_state=42)\n",
        "\n",
        "# Train the Isolation Forest model\n",
        "model = IsolationForest(n_estimators=100, contamination=0.1, random_state=42)\n",
        "model.fit(X_train)\n",
        "\n",
        "# Predict anomalies on the test set\n",
        "y_pred = model.predict(X_test)\n",
        "\n",
        "# Convert predictions to binary (1 for anomaly, 0 for normal)\n",
        "y_pred = [1 if x == -1 else 0 for x in y_pred]\n",
        "\n",
        "# Evaluate the model\n",
        "print(\"Classification Report:\")\n",
        "print(classification_report(y_test, y_pred))\n",
        "\n",
        "print(\"Confusion Matrix:\")\n",
        "print(confusion_matrix(y_test, y_pred))\n",
        "\n",
        "# Optional: Visualize results (you can use any visualization libraries like Matplotlib)\n",
        "import matplotlib.pyplot as plt\n",
        "import seaborn as sns\n",
        "\n",
        "# Plot confusion matrix\n",
        "conf_matrix = confusion_matrix(y_test, y_pred)\n",
        "sns.heatmap(conf_matrix, annot=True, fmt='d', cmap='Blues', xticklabels=['Normal', 'Anomaly'], yticklabels=['Normal', 'Anomaly'])\n",
        "plt.title('Confusion Matrix')\n",
        "plt.xlabel('Predicted')\n",
        "plt.ylabel('Actual')\n",
        "plt.show()\n"
      ]
    }
  ]
}